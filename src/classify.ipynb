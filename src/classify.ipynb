{
 "cells": [
  {
   "cell_type": "code",
   "execution_count": 1,
   "metadata": {},
   "outputs": [],
   "source": [
    "import sklearn\n",
    "import pandas as pd\n",
    "import numpy as np"
   ]
  },
  {
   "cell_type": "markdown",
   "metadata": {},
   "source": [
    "### Datensatz laden"
   ]
  },
  {
   "cell_type": "code",
   "execution_count": 3,
   "metadata": {},
   "outputs": [
    {
     "name": "stdout",
     "output_type": "stream",
     "text": [
      "                 label                                              tweet\n",
      "corpus_id                                                                \n",
      "1112521    KeineGruppe  @user @user @user Weitaus schlimmer. Heute ist...\n",
      "1114995    KeineGruppe   Das Deutsche Kaiserreich soll wieder auferstehen\n",
      "1110545    KeineGruppe                   Die BRD ist eine einzige Schande\n",
      "1114326         Gruppe  @user @user Die Grünen....besser kann man das ...\n",
      "4112169    KeineGruppe  @user @user Scheiss deutsche Politiker! Mehr g...\n",
      "...                ...                                                ...\n",
      "1223336    KeineGruppe  Unbequeme Wahrheit:   Sexuelle Belästigung ist...\n",
      "1221963    KeineGruppe  Vor was habt ihr Angst Liebe Bürger !!!???? St...\n",
      "2220834         Gruppe  @user Schön den Dummkopf #Oppermann von der Vo...\n",
      "1220580         Gruppe  @user   Hoffentlich sind die Nationalisten dan...\n",
      "2222357    KeineGruppe  @user Klar, was sollen Sie denn auch anderes s...\n",
      "\n",
      "[3050 rows x 2 columns]\n"
     ]
    }
   ],
   "source": [
    "# Datensatz laden\n",
    "\n",
    "daten = pd.read_json(\"..\\Korpora\\Referenzdatensatz_HateSpeech_Deutsch\\HateSpeechDe_HATE_Gruppe.json\")\n",
    "#daten = daten.drop(axis=1, labels=[\"corpus_id\"])\n",
    "daten = daten.set_index(keys=\"corpus_id\")\n",
    "print(daten)"
   ]
  },
  {
   "cell_type": "markdown",
   "metadata": {},
   "source": [
    "### Annotationslabels encodieren"
   ]
  },
  {
   "cell_type": "code",
   "execution_count": 27,
   "metadata": {},
   "outputs": [],
   "source": [
    "def encode(labels):\n",
    "    \"\"\"\n",
    "    Input: labels = Liste der Annotationslabels für den Datensatz,\n",
    "            z.B. [\"KEINE\", \"KEINE\", \"VVH\", \"KEINE\", ...] oder\n",
    "                 [[\"KeineGruppe\"], [\"Politische Einstellung\", \"Geschlecht\"], [\"KeineGruppe\"], ...]\n",
    "    Output:\n",
    "            namen = Liste der Klassenlabels in korrekter Reihenfolge;\n",
    "                    eine der Listen in label_namen\n",
    "            labels_encoded = Liste der Annotationslabels im binären Format\n",
    "                    die Probleme stellen immer die Frage \"Ist dieses Phänomen vorhanden?\" - Ja/Nein\n",
    "                    dann im binären Format: Ja = 1, Nein = 0\n",
    "    \"\"\"\n",
    "\n",
    "    # Mögliche Klassen\n",
    "    labels_vvh = [\"KEINE\", \"VVH\"]\n",
    "    labels_gruppe = [\"KeineGruppe\", \"Gruppe\"]\n",
    "    labels_handlung = [\"KeineHandlung\", \"Handlung\"]\n",
    "    labels_gruppe_det = [\"KeineGruppe\", \"Nationalität\", 'ethnische Herkunft / \"Rasse\"', \"Religion / Weltanschauung\",\n",
    "        \"Politische Einstellung\", \"Geschlecht\", \"Anderes Merkmal\"]\n",
    "    labels_handlung_det = [\"KeineHandlung\", \"Aufstachelung zu Hass\", \"Aufforderung zu Gewalt- oder Willkürmaßnahmen\", \"Angriff der Menschenwürde\"]\n",
    "    label_namen = [labels_vvh, labels_gruppe, labels_handlung, labels_gruppe_det, labels_handlung_det]\n",
    "\n",
    "\n",
    "    # Klassifizierungsproblem, also das Set der vorhandenen Labels, ermitteln\n",
    "\n",
    "    # Fall 1: Strings (binäre Klassen)\n",
    "    namen = []\n",
    "    if type(labels[0]) == str:\n",
    "        labels_flat = set(labels)\n",
    "    # Fall 2: Listen (mehrere Klassen)\n",
    "    else:\n",
    "        # Summe über die Sets aller Listen\n",
    "        labels_flat = set([label for entry in labels for label in entry])\n",
    "    for i in label_namen:\n",
    "        if set(i) == labels_flat: namen = i\n",
    "\n",
    "\n",
    "    # Labels transformieren\n",
    "\n",
    "    # Fall 1: 2 Klassen\n",
    "    eins = [\"NEG\", \"VVH\", \"Gruppe\", \"Handlung\"]\n",
    "    if len(namen) == 2:\n",
    "        labels_eins = np.array(list(map(lambda x: 1 if x in eins else 0, list(labels))))\n",
    "        return (labels_eins, namen)\n",
    "\n",
    "    # Fall 2: mehrere Klassen\n",
    "    else:\n",
    "        # leere Matrix der Form Einträge x Labelnamen\n",
    "        label_array = [[0 for i in range(len(namen))] for j in range(len(labels))]\n",
    "        # Matrix befüllen\n",
    "        for i, label_liste in enumerate(labels):\n",
    "            labels_bin = []\n",
    "            for j, name in enumerate(namen):\n",
    "                if name in label_liste:\n",
    "                    label_array[i][j] = 1\n",
    "        # die i-te Spalte Ndarrays label_array ist jeweils die Annotation für die i-te Klasse\n",
    "        # also bei namen = handlung_det, ist label_array[:, 0] die Annotation für \"KeineHandlung\"\n",
    "        label_array = [np.array(liste) for liste in label_array]\n",
    "        label_array = np.array(label_array)\n",
    "        return (label_array, namen)\n",
    "\n",
    "# TODO\n",
    "def decode(namen, labels):\n",
    "    \"\"\" # ausgehend von den vorhergesagten Labels und der Liste der Labelname\n",
    "    # 1. die Labels wieder von 0,1 in ihre Strings verwandeln\n",
    "\n",
    "    \"\"\"\n",
    "    return True"
   ]
  },
  {
   "cell_type": "markdown",
   "metadata": {},
   "source": [
    "### Tokenizer für die Klassifikation mit sklearn laden"
   ]
  },
  {
   "cell_type": "code",
   "execution_count": 11,
   "metadata": {},
   "outputs": [
    {
     "name": "stdout",
     "output_type": "stream",
     "text": [
      "INFO:tensorflow:Enabling eager execution\n",
      "INFO:tensorflow:Enabling v2 tensorshape\n",
      "INFO:tensorflow:Enabling resource variables\n",
      "INFO:tensorflow:Enabling tensor equality\n",
      "INFO:tensorflow:Enabling control flow v2\n"
     ]
    }
   ],
   "source": [
    "from transformers import AutoTokenizer\n",
    "\n",
    "tokenizer = AutoTokenizer.from_pretrained('deepset/gelectra-large', truncation=True, padding=False)\n",
    "\n",
    "def bert_tokenize(inputs):\n",
    "    \"\"\"Einen String mit BERT tokenisieren\n",
    "    Output: Liste von Tokens\"\"\"\n",
    "    token_ids = tokenizer(inputs)\n",
    "    tokens = tokenizer.convert_ids_to_tokens(token_ids[\"input_ids\"])\n",
    "    return tokens"
   ]
  },
  {
   "cell_type": "markdown",
   "metadata": {},
   "source": [
    "### Klassifizierungsvorgehen"
   ]
  },
  {
   "cell_type": "code",
   "execution_count": 33,
   "metadata": {},
   "outputs": [],
   "source": [
    "from sklearn.model_selection import train_test_split\n",
    "from skmultilearn.model_selection import iterative_train_test_split,IterativeStratification\n",
    "from collections import Counter\n",
    "from skmultilearn.model_selection.measures import get_combination_wise_output_matrix\n",
    "from sklearn.datasets import make_multilabel_classification\n",
    "from sklearn.feature_extraction.text import TfidfVectorizer, CountVectorizer\n",
    "from sklearn import preprocessing\n",
    "from sklearn.naive_bayes import MultinomialNB, GaussianNB\n",
    "from sklearn.linear_model import LogisticRegression\n",
    "from sklearn.ensemble import RandomForestClassifier\n",
    "from sklearn import metrics\n",
    "from sklearn.metrics import PrecisionRecallDisplay, precision_recall_curve, multilabel_confusion_matrix\n",
    "\n",
    "def iterative_train_test_split_ran(X, y, test_size, random_state=42):\n",
    "    \"\"\"Leichte Abänderung der Funktion iterativ_train_test_split \n",
    "    (skmultilearn.model_selection.iterative_stratification.iterative_train_test_split),\n",
    "    um die Übergabe eines Random-States an das interne Objekt IterativeStratification zu ermöglichen\n",
    "    \"\"\"\n",
    "    stratifier = IterativeStratification(n_splits=2, order=2, sample_distribution_per_fold=[test_size, 1.0-test_size], random_state=random_state)\n",
    "    train_indexes, test_indexes = next(stratifier.split(X, y))\n",
    "\n",
    "    X_train, y_train = X[train_indexes, :], y[train_indexes, :]\n",
    "    X_test, y_test = X[test_indexes, :], y[test_indexes, :]\n",
    "\n",
    "    return X_train, y_train, X_test, y_test\n",
    "\n",
    "def train_test_split_multilabel(daten, ziele, test_size=0.3, random_state=42):\n",
    "    \"\"\"TODO\n",
    "    \"\"\"\n",
    "\n",
    "    # Input daten als Input für den Multilabel-Stratifizierer (http://scikit.ml/stratification.html) vorbereiten:\n",
    "    # Format ndarray (beispiele) x ndarray (features)\n",
    "    # da allerdings die Features erst nach dem Train/Test-Split berechnet werden,\n",
    "    # werden stattdessen die Korpus-IDs übergeben, anhand derer dann die Tweets zugeordnet werden\n",
    "    #X, y  = daten.index, ziele\n",
    "    X, y = np.array([np.array([entry, ]) for entry in daten.index]), ziele\n",
    "    #X = np.array(X)\n",
    "\n",
    "    # Datenanalyse: Anzahl der Einträge pro Klasse / Klassenkombination\n",
    "    # Counter(combination for row in get_combination_wise_output_matrix(y, order=1) for combination in row))\n",
    "\n",
    "    X_train, y_train, X_test, y_test = iterative_train_test_split_ran(X, y, test_size = test_size, random_state=random_state) # Multilabel\n",
    "\n",
    "    # Tweets anhand der IDs dem Train/Test-Split zuordnen\n",
    "    X_train_tweets = [daten.loc[index[0]][\"tweet\"] for index in X_train]\n",
    "    X_test_tweets =  [daten.loc[index[0]][\"tweet\"] for index in X_test]\n",
    "\n",
    "    return X_train_tweets, X_test_tweets, y_train, y_test\n",
    "\n",
    "\n",
    "def split_feature(daten, ziele, labels):\n",
    "    \"\"\"Train/Test-Split Preprocessing und Merkmalsauswahl\n",
    "    Input: Datensatz (Pandas Dataframe mit Index und Spalte \"tweets\"),\n",
    "           ziele (Zielannotation im binären Format)\n",
    "    Output: X_train, y_train, X_test, y_test\n",
    "            nach stratifiziertem Train/Test-Split, Preprocessing, Merkmalsauswahl und Normalisierung\n",
    "    \"\"\"\n",
    "\n",
    "    # 1. Stratifizierter Train/Test-Split\n",
    "    if len(labels) == 2:\n",
    "        X_train, X_test, y_train, y_test = train_test_split(daten[\"tweet\"], ziele, test_size=0.33, random_state=36, stratify=ziele)\n",
    "    else:\n",
    "        X_train, X_test, y_train, y_test = train_test_split_multilabel(daten, ziele, test_size=0.3, random_state=36)\n",
    "\n",
    "\n",
    "    # 2. Preprocessing und Merkmalsauswahl\n",
    "    vectorizer = TfidfVectorizer(analyzer='word', ngram_range=(1, 2), lowercase=True, tokenizer=bert_tokenize)\n",
    "    X_train_feat = vectorizer.fit_transform(X_train)\n",
    "    X_test_feat = vectorizer.transform(X_test)\n",
    "\n",
    "    # 3. Normalisierung\n",
    "    max_abs_scaler = preprocessing.MaxAbsScaler()\n",
    "    X_train_maxabs = max_abs_scaler.fit_transform(X_train_feat)\n",
    "    X_test_maxabs = max_abs_scaler.transform(X_test_feat)\n",
    "\n",
    "    return (X_train_maxabs,y_train), (X_test_maxabs, y_test)\n",
    "\n",
    "\n",
    "def train_eval(train, test, labels):\n",
    "    \"\"\"TODO\n",
    "    Training und Evaluation\n",
    "    Input: train(daten, annotation), test(daten, annotation), label_set\n",
    "    Output: Ergebnisse der Evaluation\n",
    "    \"\"\"\n",
    "    X_train, y_train = train\n",
    "    X_test, y_test = test\n",
    "\n",
    "    # Training\n",
    "    model = LogisticRegression()\n",
    "    model.fit(X_train, y_train)    \n",
    "\n",
    "    # Evaluation\n",
    "    # TODO: restliche Metriken ergänzen\n",
    "    evaluation = dict() # Precision, Recall, Accuracy, F1, MCC, Confusion Matrix\n",
    "\n",
    "    predicted = model.predict(X_test)\n",
    "    # metrics.classification_report(y_test, predicted, labels)\n",
    "    evaluation[\"confusion\"] = metrics.confusion_matrix(y_test, predicted)\n",
    "\n",
    "    return evaluation\n",
    "\n",
    "def pipeline(daten, ziele, labels):\n",
    "    '''TODO\n",
    "    für zwei Klassen\n",
    "    '''\n",
    "    train, test = split_feature(daten, ziele, labels)\n",
    "    evaluation = train_eval(train, test, labels)\n",
    "    return evaluation\n",
    "\n",
    "def multilabel_pipeline(train, test, labels):\n",
    "    \"\"\"TODO\n",
    "    \"\"\"\n",
    "    # 1. Klassifikationspipeline (train_eval) für jede Klasse einmal laufen lassen,\n",
    "    #    Evaluationsergebnisse sammeln\n",
    "\n",
    "    # 2. Gesammelte Ergebnisse evaluieren\n",
    "\n",
    "    return True"
   ]
  },
  {
   "cell_type": "markdown",
   "metadata": {},
   "source": [
    "### Pipeline für eine oder mehrere Klassen laufen lassen"
   ]
  },
  {
   "cell_type": "code",
   "execution_count": 34,
   "metadata": {},
   "outputs": [
    {
     "name": "stdout",
     "output_type": "stream",
     "text": [
      "{'confusion': array([[515,  79],\n",
      "       [162, 251]], dtype=int64)}\n"
     ]
    }
   ],
   "source": [
    "#ergebnisse = []\n",
    "\n",
    "labels_encoded, label_namen = encode(list(daten[\"label\"]))\n",
    "\n",
    "print(pipeline(daten, labels_encoded, label_namen))\n",
    "\n",
    "#print(metrics.multilabel_confusion_matrix(y_test, predicted, labels=label_namen))\n",
    "\n",
    "\n",
    "#for i in range(len(label_namen)-1):\n",
    "#    ergebnisse.append(pipeline(daten, labels_encoded[i], [label_namen[0], label_namen[i+1]]))\n",
    "\n",
    "\n",
    "# globale Evaluation\n",
    "#print(ergebnisse)"
   ]
  }
 ],
 "metadata": {
  "interpreter": {
   "hash": "bfe21998ac49805528ba5c524b8c99ad95f34df1263c0d2d07976ea5fcbab9a8"
  },
  "kernelspec": {
   "display_name": "Python 3.9.2 64-bit",
   "language": "python",
   "name": "python3"
  },
  "language_info": {
   "codemirror_mode": {
    "name": "ipython",
    "version": 3
   },
   "file_extension": ".py",
   "mimetype": "text/x-python",
   "name": "python",
   "nbconvert_exporter": "python",
   "pygments_lexer": "ipython3",
   "version": "3.9.2"
  },
  "orig_nbformat": 4
 },
 "nbformat": 4,
 "nbformat_minor": 2
}
