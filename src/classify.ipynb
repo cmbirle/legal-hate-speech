{
 "cells": [
  {
   "cell_type": "code",
   "execution_count": 4,
   "metadata": {},
   "outputs": [],
   "source": [
    "import sklearn\n",
    "import pandas as pd\n",
    "import numpy as np"
   ]
  },
  {
   "cell_type": "markdown",
   "metadata": {},
   "source": [
    "### Datensatz laden"
   ]
  },
  {
   "cell_type": "code",
   "execution_count": 10,
   "metadata": {},
   "outputs": [
    {
     "name": "stdout",
     "output_type": "stream",
     "text": [
      "                label                                              tweet\n",
      "0     [KeineHandlung]  @user @user @user Weitaus schlimmer. Heute ist...\n",
      "1     [KeineHandlung]   Das Deutsche Kaiserreich soll wieder auferstehen\n",
      "2     [KeineHandlung]                   Die BRD ist eine einzige Schande\n",
      "3     [KeineHandlung]  @user @user Die Grünen....besser kann man das ...\n",
      "4     [KeineHandlung]  @user @user Scheiss deutsche Politiker! Mehr g...\n",
      "...               ...                                                ...\n",
      "3045  [KeineHandlung]  Unbequeme Wahrheit:   Sexuelle Belästigung ist...\n",
      "3046  [KeineHandlung]  Vor was habt ihr Angst Liebe Bürger !!!???? St...\n",
      "3047  [KeineHandlung]  @user Schön den Dummkopf #Oppermann von der Vo...\n",
      "3048  [KeineHandlung]  @user   Hoffentlich sind die Nationalisten dan...\n",
      "3049  [KeineHandlung]  @user Klar, was sollen Sie denn auch anderes s...\n",
      "\n",
      "[3050 rows x 2 columns]\n"
     ]
    }
   ],
   "source": [
    "# Datensatz laden\n",
    "\n",
    "daten = pd.read_json(\"..\\Korpora\\Referenzdatensatz_HateSpeech_Deutsch\\HateSpeechDe_HATE_HandlungDetail.json\")\n",
    "daten = daten.drop(axis=1, labels=[\"corpus_id\"])\n",
    "print(daten)"
   ]
  },
  {
   "cell_type": "markdown",
   "metadata": {},
   "source": [
    "### Annotationslabels encodieren"
   ]
  },
  {
   "cell_type": "code",
   "execution_count": 40,
   "metadata": {},
   "outputs": [
    {
     "name": "stdout",
     "output_type": "stream",
     "text": [
      "['KeineHandlung', 'Aufstachelung zu Hass', 'Aufforderung zu Gewalt- oder Willkürmaßnahmen', 'Angriff der Menschenwürde']\n"
     ]
    }
   ],
   "source": [
    "# Annotationen konvertieren\n",
    "\n",
    "def transform_label(label):\n",
    "    ja = [\"NEG\", \"VVH\", \"Gruppe\", \"Handlung\", \"Nationalität\", 'ethnische Herkunft / \"Rasse\"', \"Religion / Weltanschauung\",\n",
    "        \"Politische Einstellung\", \"Geschlecht\", \"Anderes Merkmal\", \"Aufstachelung zu Hass\", \"Aufforderung zu Gewalt- oder Willkürmaßnahmen\", \"Angriff der Menschenwürde\"]\n",
    "    \n",
    "    if label in ja: return 1\n",
    "    else: return 0\n",
    "\n",
    "def encode(labels):\n",
    "    \"\"\"TODO\n",
    "    # ausgehend nur von daten[\"label\"]:\n",
    "    # 1. eine Liste der Labelnamen ausgeben (also herausfinden, um welches Klassifikationsproblem es genau geht)\n",
    "    # 2. die Labels in eine Liste der transformierten Labels verwandeln\n",
    "\n",
    "    \"\"\"\n",
    "\n",
    "    # 1. Klassifizierungsproblem, also das Set der vorhandenen Labels, ermitteln\n",
    "    labels_vvh = [\"KEINE\", \"VVH\"]\n",
    "    labels_gruppe = [\"KeineGruppe\", \"Gruppe\"]\n",
    "    labels_handlung = [\"KeineHandlung\", \"Handlung\"]\n",
    "    labels_gruppe_det = [\"KeineGruppe\", \"Nationalität\", 'ethnische Herkunft / \"Rasse\"', \"Religion / Weltanschauung\",\n",
    "        \"Politische Einstellung\", \"Geschlecht\", \"Anderes Merkmal\"]\n",
    "    labels_handlung_det = [\"KeineHandlung\", \"Aufstachelung zu Hass\", \"Aufforderung zu Gewalt- oder Willkürmaßnahmen\", \"Angriff der Menschenwürde\"]\n",
    "    label_namen = [labels_vvh, labels_gruppe, labels_handlung, labels_gruppe_det, labels_handlung_det]\n",
    "\n",
    "    # Fall 1: Strings (binäre Klassen)\n",
    "    namen = []\n",
    "    if type(labels[0]) == str:\n",
    "        labels_flat = set(labels)\n",
    "    # Fall 2: Listen (mehrere Klassen)\n",
    "    else:\n",
    "        # Summe über die Sets aller Listen\n",
    "        labels_flat = set([label for entry in labels for label in entry])\n",
    "    for i in label_namen:\n",
    "        if set(i) == labels_flat: namen = i\n",
    "\n",
    "    # 2. Labels transformieren\n",
    "\n",
    "    # Fall 1: nur 1 Klasse\n",
    "    if len(namen) == 2:\n",
    "        return ([list(map(transform_label, list(labels)))], namen)\n",
    "\n",
    "    # Fall 2: mehrere Klassen\n",
    "    else:\n",
    "        labels_bin = []\n",
    "        # neue Liste von Labels erstellen, aus der alle anderen Klassen entfernt sind\n",
    "        labels_sep = []\n",
    "        for nom in namen[1:]:\n",
    "            labels_neu = []\n",
    "            for entry in labels:\n",
    "                if nom in entry:\n",
    "                    labels_neu.append(nom)\n",
    "                else: labels_neu.append(namen[0])\n",
    "            labels_sep.append(labels_neu)\n",
    "        # für jede Klasse die Labels transformieren\n",
    "        for klasse in labels_sep:\n",
    "            labels_bin.append(list(map(transform_label, klasse)))\n",
    "        return (labels_bin, namen)\n",
    "\n",
    "\n",
    "# TODO\n",
    "def decode(namen, labels):\n",
    "    \"\"\" # ausgehend von den vorhergesagten Labels und der Liste der Labelname\n",
    "    # 1. die Labels wieder von 0,1 in ihre Strings verwandeln\n",
    "\n",
    "    \"\"\"\n",
    "    return True\n",
    "\n",
    "labels_encoded, label_namen = encode(daten[\"label\"])\n",
    "print(label_namen)"
   ]
  },
  {
   "cell_type": "markdown",
   "metadata": {},
   "source": [
    "### Tokenizer für die Klassifikation mit sklearn laden"
   ]
  },
  {
   "cell_type": "code",
   "execution_count": 15,
   "metadata": {},
   "outputs": [
    {
     "name": "stderr",
     "output_type": "stream",
     "text": [
      "Downloading: 100%|██████████| 443/443 [00:00<00:00, 139kB/s]\n",
      "Downloading: 100%|██████████| 240k/240k [00:01<00:00, 195kB/s]  \n",
      "Downloading: 100%|██████████| 83.0/83.0 [00:00<00:00, 24.5kB/s]\n"
     ]
    }
   ],
   "source": [
    "from transformers import AutoTokenizer\n",
    "\n",
    "tokenizer = AutoTokenizer.from_pretrained('deepset/gelectra-large', truncation=True, padding=False)\n",
    "\n",
    "def bert_tokenize(inputs):\n",
    "    \"\"\"Einen String mit BERT tokenisieren\n",
    "    Output: Liste von Tokens\"\"\"\n",
    "    token_ids = tokenizer(inputs)\n",
    "    tokens = tokenizer.convert_ids_to_tokens(token_ids[\"input_ids\"])\n",
    "    return tokens   "
   ]
  },
  {
   "cell_type": "code",
   "execution_count": 20,
   "metadata": {},
   "outputs": [],
   "source": [
    "from sklearn.model_selection import train_test_split\n",
    "from sklearn.feature_extraction.text import TfidfVectorizer, CountVectorizer\n",
    "from sklearn import preprocessing\n",
    "from sklearn.naive_bayes import MultinomialNB, GaussianNB\n",
    "from sklearn.linear_model import LogisticRegression\n",
    "from sklearn.ensemble import RandomForestClassifier\n",
    "from sklearn import metrics\n",
    "from sklearn.metrics import PrecisionRecallDisplay, precision_recall_curve\n",
    "\n",
    "def pipeline(daten, ziele, label_set):\n",
    "    \"\"\"\n",
    "    Train/Test-Split, Preprocessing und Merkmalsauswahl, Training und Evaluation\n",
    "    Input: vollständiger Datensatz (daten) + Annotation (ziele)\n",
    "    Output: Ergebnisse der Evaluation\n",
    "    \"\"\"\n",
    "    # 1. Stratifizierter Train/Test-Split\n",
    "    X_train, X_test, y_train, y_test = train_test_split(daten[\"tweet\"], ziele, test_size=0.33, random_state=36, stratify=ziele)\n",
    "\n",
    "    # 2. Preprocessing und Merkmalsauswahl\n",
    "    vectorizer = TfidfVectorizer(analyzer='word', ngram_range=(1, 2), lowercase=True, tokenizer=bert_tokenize)\n",
    "    X_train_feat = vectorizer.fit_transform(X_train)\n",
    "    X_test_feat = vectorizer.transform(X_test)\n",
    "\n",
    "    # 3. Normalisierung\n",
    "    max_abs_scaler = preprocessing.MaxAbsScaler()\n",
    "    X_train_maxabs = max_abs_scaler.fit_transform(X_train_feat)\n",
    "    X_test_maxabs = max_abs_scaler.transform(X_test_feat)\n",
    "\n",
    "    # 4. Training\n",
    "    model = LogisticRegression()\n",
    "    model.fit(X_train_maxabs, y_train)    \n",
    "\n",
    "    # 5. Evaluation\n",
    "    evaluation = dict() # Precision, Recall, Accuracy, F1, MCC, Confusion Matrix\n",
    "\n",
    "    predicted = model.predict(X_test_maxabs)\n",
    "    # metrics.classification_report(y_test, predicted, label_set)\n",
    "    evaluation[\"confusion\"] = metrics.confusion_matrix(y_test, predicted)\n",
    "\n",
    "    return evaluation"
   ]
  },
  {
   "cell_type": "markdown",
   "metadata": {},
   "source": [
    "### Pipeline für eine oder mehrere Klassen laufen lassen"
   ]
  },
  {
   "cell_type": "code",
   "execution_count": 41,
   "metadata": {},
   "outputs": [
    {
     "name": "stdout",
     "output_type": "stream",
     "text": [
      "3\n",
      "{'confusion': array([[1004,    0],\n",
      "       [   3,    0]], dtype=int64)}\n",
      "{'confusion': array([[990,   0],\n",
      "       [ 17,   0]], dtype=int64)}\n",
      "{'confusion': array([[995,   0],\n",
      "       [ 12,   0]], dtype=int64)}\n",
      "[{'confusion': array([[1004,    0],\n",
      "       [   3,    0]], dtype=int64)}, {'confusion': array([[990,   0],\n",
      "       [ 17,   0]], dtype=int64)}, {'confusion': array([[995,   0],\n",
      "       [ 12,   0]], dtype=int64)}]\n"
     ]
    }
   ],
   "source": [
    "ergebnisse = []\n",
    "\n",
    "\n",
    "for i in range(len(label_namen)-1):\n",
    "    ergebnisse.append(pipeline(daten, labels_encoded[i], [label_namen[0], label_namen[i+1]]))\n",
    "\n",
    "# globale Evaluation\n",
    "print(ergebnisse)"
   ]
  }
 ],
 "metadata": {
  "interpreter": {
   "hash": "bfe21998ac49805528ba5c524b8c99ad95f34df1263c0d2d07976ea5fcbab9a8"
  },
  "kernelspec": {
   "display_name": "Python 3.9.2 64-bit",
   "language": "python",
   "name": "python3"
  },
  "language_info": {
   "codemirror_mode": {
    "name": "ipython",
    "version": 3
   },
   "file_extension": ".py",
   "mimetype": "text/x-python",
   "name": "python",
   "nbconvert_exporter": "python",
   "pygments_lexer": "ipython3",
   "version": "3.9.2"
  },
  "orig_nbformat": 4
 },
 "nbformat": 4,
 "nbformat_minor": 2
}
