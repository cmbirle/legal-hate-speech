{
 "cells": [
  {
   "cell_type": "markdown",
   "metadata": {},
   "source": [
    "# Übersicht des annotierten Datensatzes"
   ]
  },
  {
   "cell_type": "code",
   "execution_count": 1,
   "metadata": {},
   "outputs": [],
   "source": [
    "import matplotlib.pyplot as plt\n",
    "import pandas as pd\n",
    "import numpy as np"
   ]
  },
  {
   "cell_type": "code",
   "execution_count": 66,
   "metadata": {},
   "outputs": [],
   "source": [
    "# Gesamten Datensatz einlesen\n",
    "\n",
    "train_df = pd.read_csv(\"..\\Korpora\\Referenzdatensatz_HateSpeech_Deutsch\\RefKorpHateSpeechDe_Train_OD.txt\", sep=\"\\t\", header=0)\n",
    "test_df = pd.read_csv(\"..\\Korpora\\Referenzdatensatz_HateSpeech_Deutsch\\RefKorpHateSpeechDe_Test_OD.txt\", sep=\"\\t\")\n",
    "\n",
    "df_ganz_detail = pd.concat([train_df, test_df])"
   ]
  },
  {
   "cell_type": "code",
   "execution_count": 67,
   "metadata": {},
   "outputs": [],
   "source": [
    "# Neue Spalte: Korpusname (ermittelt über die ID)\n",
    "\n",
    "def map_corp(id):\n",
    "    id = str(id)\n",
    "    if id[0] == '1': return 'GermEval18'\n",
    "    elif id[0] == '2': return 'GermEval19'\n",
    "    elif id[0] == '3': return 'HASOC19'\n",
    "    elif id[0] == '4': return 'HASOC20'\n",
    "    elif id[0] == '5': return 'Covid19-Abusive'\n",
    "\n",
    "df_ganz_detail['Korpus'] = df_ganz_detail['corpus_id'].map(map_corp)\n",
    "df_ganz_detail = df_ganz_detail.drop(axis=1, labels=['corpus_id','tweet']) "
   ]
  },
  {
   "cell_type": "code",
   "execution_count": 43,
   "metadata": {},
   "outputs": [
    {
     "data": {
      "text/html": [
       "<div>\n",
       "<style scoped>\n",
       "    .dataframe tbody tr th:only-of-type {\n",
       "        vertical-align: middle;\n",
       "    }\n",
       "\n",
       "    .dataframe tbody tr th {\n",
       "        vertical-align: top;\n",
       "    }\n",
       "\n",
       "    .dataframe thead th {\n",
       "        text-align: right;\n",
       "    }\n",
       "</style>\n",
       "<table border=\"1\" class=\"dataframe\">\n",
       "  <thead>\n",
       "    <tr style=\"text-align: right;\">\n",
       "      <th></th>\n",
       "      <th>binarylabel</th>\n",
       "      <th>finelabel</th>\n",
       "      <th>Korpus</th>\n",
       "    </tr>\n",
       "  </thead>\n",
       "  <tbody>\n",
       "    <tr>\n",
       "      <th>0</th>\n",
       "      <td>NOT</td>\n",
       "      <td>NOT</td>\n",
       "      <td>HASOC20</td>\n",
       "    </tr>\n",
       "    <tr>\n",
       "      <th>1</th>\n",
       "      <td>NEG</td>\n",
       "      <td>HATE</td>\n",
       "      <td>GermEval19</td>\n",
       "    </tr>\n",
       "    <tr>\n",
       "      <th>2</th>\n",
       "      <td>NOT</td>\n",
       "      <td>NOT</td>\n",
       "      <td>HASOC20</td>\n",
       "    </tr>\n",
       "    <tr>\n",
       "      <th>3</th>\n",
       "      <td>NOT</td>\n",
       "      <td>NOT</td>\n",
       "      <td>HASOC19</td>\n",
       "    </tr>\n",
       "    <tr>\n",
       "      <th>4</th>\n",
       "      <td>NEG</td>\n",
       "      <td>HATE</td>\n",
       "      <td>GermEval18</td>\n",
       "    </tr>\n",
       "    <tr>\n",
       "      <th>...</th>\n",
       "      <td>...</td>\n",
       "      <td>...</td>\n",
       "      <td>...</td>\n",
       "    </tr>\n",
       "    <tr>\n",
       "      <th>9923</th>\n",
       "      <td>NOT</td>\n",
       "      <td>NOT</td>\n",
       "      <td>GermEval18</td>\n",
       "    </tr>\n",
       "    <tr>\n",
       "      <th>9924</th>\n",
       "      <td>NEG</td>\n",
       "      <td>PRFN</td>\n",
       "      <td>HASOC20</td>\n",
       "    </tr>\n",
       "    <tr>\n",
       "      <th>9925</th>\n",
       "      <td>NEG</td>\n",
       "      <td>INSOFF</td>\n",
       "      <td>GermEval19</td>\n",
       "    </tr>\n",
       "    <tr>\n",
       "      <th>9926</th>\n",
       "      <td>NEG</td>\n",
       "      <td>INSOFF</td>\n",
       "      <td>GermEval19</td>\n",
       "    </tr>\n",
       "    <tr>\n",
       "      <th>9927</th>\n",
       "      <td>NOT</td>\n",
       "      <td>NOT</td>\n",
       "      <td>HASOC19</td>\n",
       "    </tr>\n",
       "  </tbody>\n",
       "</table>\n",
       "<p>28596 rows × 3 columns</p>\n",
       "</div>"
      ],
      "text/plain": [
       "     binarylabel finelabel      Korpus\n",
       "0            NOT       NOT     HASOC20\n",
       "1            NEG      HATE  GermEval19\n",
       "2            NOT       NOT     HASOC20\n",
       "3            NOT       NOT     HASOC19\n",
       "4            NEG      HATE  GermEval18\n",
       "...          ...       ...         ...\n",
       "9923         NOT       NOT  GermEval18\n",
       "9924         NEG      PRFN     HASOC20\n",
       "9925         NEG    INSOFF  GermEval19\n",
       "9926         NEG    INSOFF  GermEval19\n",
       "9927         NOT       NOT     HASOC19\n",
       "\n",
       "[28596 rows x 3 columns]"
      ]
     },
     "execution_count": 43,
     "metadata": {},
     "output_type": "execute_result"
    }
   ],
   "source": [
    "df_ganz_detail"
   ]
  },
  {
   "cell_type": "code",
   "execution_count": 44,
   "metadata": {},
   "outputs": [
    {
     "data": {
      "text/html": [
       "<div>\n",
       "<style scoped>\n",
       "    .dataframe tbody tr th:only-of-type {\n",
       "        vertical-align: middle;\n",
       "    }\n",
       "\n",
       "    .dataframe tbody tr th {\n",
       "        vertical-align: top;\n",
       "    }\n",
       "\n",
       "    .dataframe thead th {\n",
       "        text-align: right;\n",
       "    }\n",
       "</style>\n",
       "<table border=\"1\" class=\"dataframe\">\n",
       "  <thead>\n",
       "    <tr style=\"text-align: right;\">\n",
       "      <th></th>\n",
       "      <th>binarylabel</th>\n",
       "      <th>Korpus</th>\n",
       "    </tr>\n",
       "  </thead>\n",
       "  <tbody>\n",
       "    <tr>\n",
       "      <th>0</th>\n",
       "      <td>NOT</td>\n",
       "      <td>HASOC20</td>\n",
       "    </tr>\n",
       "    <tr>\n",
       "      <th>1</th>\n",
       "      <td>NEG</td>\n",
       "      <td>GermEval19</td>\n",
       "    </tr>\n",
       "    <tr>\n",
       "      <th>2</th>\n",
       "      <td>NOT</td>\n",
       "      <td>HASOC20</td>\n",
       "    </tr>\n",
       "    <tr>\n",
       "      <th>3</th>\n",
       "      <td>NOT</td>\n",
       "      <td>HASOC19</td>\n",
       "    </tr>\n",
       "    <tr>\n",
       "      <th>4</th>\n",
       "      <td>NEG</td>\n",
       "      <td>GermEval18</td>\n",
       "    </tr>\n",
       "  </tbody>\n",
       "</table>\n",
       "</div>"
      ],
      "text/plain": [
       "  binarylabel      Korpus\n",
       "0         NOT     HASOC20\n",
       "1         NEG  GermEval19\n",
       "2         NOT     HASOC20\n",
       "3         NOT     HASOC19\n",
       "4         NEG  GermEval18"
      ]
     },
     "execution_count": 44,
     "metadata": {},
     "output_type": "execute_result"
    }
   ],
   "source": [
    "# Labelverteilung: NEG / nicht NEG\n",
    "# Stacked Barplot horizontal, mit unterschiedlichen Farben für die verschiedenen Datensätze\n",
    "# also: finelabel-Spalte weg\n",
    "df_ganz = df_ganz_detail.drop(axis=1, labels=\"finelabel\")\n",
    "df_ganz.head()\n"
   ]
  },
  {
   "cell_type": "code",
   "execution_count": 64,
   "metadata": {},
   "outputs": [
    {
     "data": {
      "text/plain": [
       "Text(0.5, 0, 'Anzahl an Tweets')"
      ]
     },
     "execution_count": 64,
     "metadata": {},
     "output_type": "execute_result"
    },
    {
     "data": {
      "image/png": "[encoded data removed]",
      "text/plain": [
       "<Figure size 800x300 with 1 Axes>"
      ]
     },
     "metadata": {},
     "output_type": "display_data"
    }
   ],
   "source": [
    "import seaborn as sns\n",
    "import matplotlib.pyplot as plt\n",
    "#sns.set_theme(style=\"ticks\", color_codes=True)\n",
    "#sns.catplot(x=\"binarylabel\", kind=\"count\", data=df_ganz, hue=\"Korpus\")\n",
    "\n",
    "bylabel = df_ganz.groupby(\"binarylabel\").Korpus.value_counts()\n",
    "\n",
    "# TODO: Farbe pro Datensatz festlegen\n",
    "plt.style.use(\"default\")\n",
    "labelplot = bylabel.unstack().plot.barh(stacked=\"True\", xlabel=\"Binäre Annotation\", width=0.4, figsize=(8,3))\n",
    "plt.xlabel(\"Anzahl an Tweets\")\n",
    "#plt.bar_label(labelplot.containers[0], label_type=\"center\")"
   ]
  },
  {
   "cell_type": "code",
   "execution_count": 68,
   "metadata": {},
   "outputs": [
    {
     "data": {
      "text/plain": [
       "Text(0.5, 0, 'Anzahl an Tweets')"
      ]
     },
     "execution_count": 68,
     "metadata": {},
     "output_type": "execute_result"
    },
    {
     "data": {
      "image/png": "[encoded data removed]",
      "text/plain": [
       "<Figure size 800x300 with 1 Axes>"
      ]
     },
     "metadata": {},
     "output_type": "display_data"
    }
   ],
   "source": [
    "df_ganz_detail = df_ganz_detail.drop(df_ganz_detail[df_ganz_detail['Korpus'] == \"Covid19-Abusive\"].index)\n",
    "df_ganz_detail = df_ganz_detail.drop(df_ganz_detail[df_ganz_detail['finelabel'] == \"NOT\"].index)\n",
    "df_ganz_detail = df_ganz_detail.drop(axis=1, labels=\"binarylabel\")\n",
    "\n",
    "byfinelabel = df_ganz_detail.groupby(by=\"finelabel\").Korpus.value_counts()\n",
    "\n",
    "plt.style.use(\"default\")\n",
    "labelplot = byfinelabel.unstack().plot.barh(stacked=\"True\", xlabel=\"Detaillierte Annotation\", width=0.4, figsize=(8,3))\n",
    "plt.xlabel(\"Anzahl an Tweets\")"
   ]
  },
  {
   "cell_type": "markdown",
   "metadata": {},
   "source": [
    "## Detaillierte Annotation"
   ]
  },
  {
   "cell_type": "code",
   "execution_count": null,
   "metadata": {},
   "outputs": [],
   "source": [
    "# Detaillierte Annotation einlesen"
   ]
  }
 ],
 "metadata": {
  "interpreter": {
   "hash": "bfe21998ac49805528ba5c524b8c99ad95f34df1263c0d2d07976ea5fcbab9a8"
  },
  "kernelspec": {
   "display_name": "Python 3.9.2 64-bit",
   "language": "python",
   "name": "python3"
  },
  "language_info": {
   "codemirror_mode": {
    "name": "ipython",
    "version": 3
   },
   "file_extension": ".py",
   "mimetype": "text/x-python",
   "name": "python",
   "nbconvert_exporter": "python",
   "pygments_lexer": "ipython3",
   "version": "3.9.2"
  },
  "orig_nbformat": 4
 },
 "nbformat": 4,
 "nbformat_minor": 2
}
