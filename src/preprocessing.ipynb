{
 "cells": [
  {
   "cell_type": "markdown",
   "metadata": {},
   "source": [
    "# Preprocessing des Referenzdatensatzes"
   ]
  },
  {
   "cell_type": "markdown",
   "metadata": {},
   "source": [
    "1. Anonymisierung der @user-Erwähnungen zu \"@user\n",
    "2. Duplikate entfernen (bei Paaren sehr ähnlicher Tweets einen entfernen)\n",
    "3. Mit den verschiedenen Annotationsebenen- und detaills separat speichern"
   ]
  },
  {
   "cell_type": "markdown",
   "metadata": {},
   "source": [
    "## 1. Anonymisierung der @user-Erwähnungen"
   ]
  },
  {
   "cell_type": "code",
   "execution_count": 11,
   "metadata": {},
   "outputs": [],
   "source": [
    "import re\n",
    "\n",
    "def anonym_atuser(tweet):\n",
    "    tweet_anonym = re.sub('@[^@ ]+?@', '@user@', tweet)\n",
    "    tweet_anonym = re.sub('@[^@ ]+? ', '@user ', tweet_anonym)\n",
    "    tweet_anonym = re.sub('@[^@ ]+?$', '@user', tweet_anonym)\n",
    "    return tweet_anonym\n",
    "\n",
    "# von '@rspctfl@houelle_beck @ergroovt @ThomasMichael71 @ksemann2 @DrKassandraPari Dann hättest Du nichts dagegen, wenn ein Lehrer ein Zeichen d PKK im Unterricht trägt? Oder die Flagge Israels? Oder ein Anstecker der AfD? @Innenwelttramp'\n",
    "# zu '@user@user @user @user @user @user Dann hättest Du nichts dagegen, wenn ein Lehrer ein Zeichen d PKK im Unterricht trägt? Oder die Flagge Israels? Oder ein Anstecker der AfD? @user'"
   ]
  },
  {
   "cell_type": "markdown",
   "metadata": {},
   "source": [
    "## 2. Duplikate entfernen"
   ]
  },
  {
   "cell_type": "code",
   "execution_count": 2,
   "metadata": {},
   "outputs": [],
   "source": [
    "# Jaccard-Index-Funktionen zur Berechnung der Ähnlichkeit\n",
    "\n",
    "def make_bag(string1):\n",
    "    \"\"\" String als Multiset speichern; \n",
    "        In Form eines dicts: jedes vorkommende Unigram als Key, die Anzahl der Nutzungen als Value\n",
    "        Als zusätzlichen Wert auch die Länge des Strings speichern\n",
    "    \"\"\"\n",
    "    stringlist = list(string1)\n",
    "    stringbag = dict()\n",
    "    stringset = set(string1)\n",
    "    for ch1 in stringset:\n",
    "        stringbag[ch1] = stringlist.count(ch1)\n",
    "    stringbag[\"len\"] = len(string1)\n",
    "    return stringbag\n",
    "\n",
    "def jaccard_multisets(bag1, bag2):\n",
    "    \"\"\"Den Jaccard-Index für zwei Multisets (von zwei Strings) berechnen.\n",
    "       Max.-Wert: 0.5\n",
    "    \"\"\"\n",
    "\n",
    "    # Schnittmenge bauen, die Gesamtlänge speichern\n",
    "    schnitt_len = 0\n",
    "    tok1 = set(bag1.keys()) - {\"len\"}\n",
    "    tok2 = set(bag2.keys()) - {\"len\"}\n",
    "    for gram in tok1:\n",
    "        if gram in tok2:\n",
    "            l = min(bag1[gram],bag2[gram])\n",
    "            schnitt_len += l\n",
    "\n",
    "    # Länge der Vereinigung ermitteln\n",
    "    vereinigung_len = bag1[\"len\"] + bag2[\"len\"]\n",
    "    \n",
    "    jaccard_index = schnitt_len / vereinigung_len\n",
    "    return jaccard_index"
   ]
  },
  {
   "cell_type": "code",
   "execution_count": null,
   "metadata": {},
   "outputs": [],
   "source": [
    "tweet1 = \"@Karl_Lauterbach Besser ein Amateur der lernfähig ist, als das verlauste Pack der abgefuckten SPD - SCHMAROTZER, PÄDOPHILE und DENUNZIANTEN !!!\"\n",
    "tweet2 = \"@ThomasOppermann SPD - SCHMAROTZER,PÄDOPHILE UND DENUNZIANTEN   oder   SCHEINHEILGSTE PARTEI DEUTSCHLANDS !!!\"\n",
    "tweet3 = \"\"\n",
    "tweet4 = \"@spdde @hubertus_heil SPD - SCHMAROTZER, PÄDOPHILE UND DENUNZIANTEN\"\n",
    "tweet5 = \"SPD - SCHMAROTZER, PÄDOPHILE UND DENUNZIANTEN\"\n",
    "tweet6 = \"Deutsche Medien, Halbwahrheiten und einseitige Betrachtung, wie bei allen vom Staat finanzierten 'billigen' Propagandainstitutionen 😜\"\n",
    "tweet7 = \"Bevor sich PL an Angies Krimigranten-Quoten beteiligen wird, verlassen sie auch die EU u. Konzerne könnten ihren Mist ins Baltikum fliegen 😜\"\n",
    "\n",
    "jind = jaccard_multisets(make_bag(tweet6), make_bag(tweet7))\n",
    "print(jind)"
   ]
  },
  {
   "cell_type": "code",
   "execution_count": 1,
   "metadata": {},
   "outputs": [],
   "source": [
    "def calculate_bags(corpus):\n",
    "    \"\"\"Multisets (bags) für alle Tweets in einem Korpus berechen.\n",
    "    Input: Korpus\n",
    "    Output: Liste von Multisets (Index in der Liste == Index in der Korpusliste)\n",
    "    \"\"\"\n",
    "    bags = []\n",
    "    for i in range(len(corpus)):\n",
    "        bags.append(make_bag(corpus[i][1]))\n",
    "    return bags\n",
    "\n",
    "def collect_duplicates(corpus, bags):\n",
    "    \"\"\" Duplikate/sehr ähnliche Tweetpaare sammeln\n",
    "    Input: Korpus, Liste von Multisets für alle Tweets im Korpus\n",
    "    Output: Liste potentieller Duplikate (als Tupel der Korpuseinträge)\n",
    "    \"\"\"\n",
    "    duplicates = []\n",
    "    for i in range(len(corpus)):\n",
    "        #if i % 100 == 0: print(\"i\",i)\n",
    "        for j in range(len(corpus)):\n",
    "            if i == j: continue\n",
    "            else:\n",
    "                jacc = jaccard_multisets(bags[i],bags[j])\n",
    "                if jacc >= 0.47:\n",
    "                    #print(jacc)\n",
    "                    duplicates.append((corpus[i],corpus[j]))\n",
    "    \n",
    "    return duplicates\n",
    "\n",
    "def rem_duplicates(duplicates):\n",
    "    \"\"\"Sortiert die Liste der Duplikate, so dass Paare von IDs nur noch einmal vorkommen.\n",
    "    (Sie werden zunächst doppelt gefunden, jeweils einmal in jede Vergleichsrichtung)\n",
    "    \"\"\"\n",
    "    dups = []\n",
    "    dup_ids = []\n",
    "    for i in duplicates:\n",
    "        if not {i[0][0], i[1][0]} in dup_ids:\n",
    "            dup_ids.append({i[0][0], i[1][0]})\n",
    "            dups.append(i)\n",
    "    return dups"
   ]
  },
  {
   "cell_type": "markdown",
   "metadata": {},
   "source": [
    "## 3. Annotationen formatieren und speichern\n",
    "\n",
    "- Kürzel mit Legende für die Labels erstellen\n",
    "\n",
    "- in unterschiedlicher Detailgenauigkeit speichern:\n",
    "    - VVH Ja/Nein, VVH-Allg Ja/Nein, VVH-NS Ja/Nein\n",
    "    - Gruppe Ja/Nein, Welches Gruppenmerkmal/Keine Gruppe, Welche Gruppe genau/Keine Gruppe \n",
    "    - Handlung VVH-Allg Ja/Nein, Welche Handlung genau/Keine Handlung\n",
    "    - Handlung VVH-NS Ja/Nein, Welche Handlung genau/Keine Handlung\n"
   ]
  }
 ],
 "metadata": {
  "interpreter": {
   "hash": "bfe21998ac49805528ba5c524b8c99ad95f34df1263c0d2d07976ea5fcbab9a8"
  },
  "kernelspec": {
   "display_name": "Python 3.9.2 64-bit",
   "language": "python",
   "name": "python3"
  },
  "language_info": {
   "codemirror_mode": {
    "name": "ipython",
    "version": 3
   },
   "file_extension": ".py",
   "mimetype": "text/x-python",
   "name": "python",
   "nbconvert_exporter": "python",
   "pygments_lexer": "ipython3",
   "version": "3.9.2"
  },
  "orig_nbformat": 4
 },
 "nbformat": 4,
 "nbformat_minor": 2
}
